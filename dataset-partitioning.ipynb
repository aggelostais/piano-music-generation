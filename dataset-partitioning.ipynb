{
 "cells": [
  {
   "cell_type": "markdown",
   "id": "d4d3a07c",
   "metadata": {},
   "source": [
    "# Dataset Partitioning (ver. 2022.11.26)"
   ]
  },
  {
   "cell_type": "code",
   "execution_count": 1,
   "id": "3a6c353c",
   "metadata": {},
   "outputs": [],
   "source": [
    "import os, glob, shutil\n",
    "import random\n",
    "from tqdm.notebook import tqdm\n",
    "from pathlib import Path\n",
    "import muspy as mu\n",
    "from mido import MidiFile\n",
    "import pretty_midi as pr"
   ]
  },
  {
   "cell_type": "code",
   "execution_count": 2,
   "id": "4a1ef711",
   "metadata": {},
   "outputs": [],
   "source": [
    "dataset='Los-Angeles-MIDI-Dataset'\n",
    "primary_dir='/data/data1/users/astais/Unprocessed-Datasets/Los-Angeles-MIDI-Dataset/MIDIs/'\n",
    "save_dir=\"/data/data1/users/astais/Unprocessed-Datasets/Los-Angeles-MIDI-Dataset-segment/\"\n",
    "segments=20"
   ]
  },
  {
   "cell_type": "code",
   "execution_count": 6,
   "id": "42b418ea",
   "metadata": {
    "scrolled": false
   },
   "outputs": [
    {
     "data": {
      "application/vnd.jupyter.widget-view+json": {
       "model_id": "45adea2338dd4e7f9463a9a574cab927",
       "version_major": 2,
       "version_minor": 0
      },
      "text/plain": [
       "Copying 46997 midi files:   0%|          | 0/1 [00:00<?, ?it/s]"
      ]
     },
     "metadata": {},
     "output_type": "display_data"
    },
    {
     "name": "stdout",
     "output_type": "stream",
     "text": [
      "Done!\n"
     ]
    }
   ],
   "source": [
    "# count number of midis in directory\n",
    "# mid_num=len(tqdm([f for f in Path(directory).rglob('*.mid*')]))\n",
    "file_list = list(Path(primary_dir).glob(f\"**/*.mid*\"))\n",
    "if not len(file_list):\n",
    "    print(\"No files found.\")\n",
    "\n",
    "# number of files to copy\n",
    "total=len(file_list)//segments\n",
    "\n",
    "# iterate over files in directory and randomly copy \n",
    "for i in tqdm(range(1),desc=\"Copying \"+str(total)+\" midi files\"):\n",
    "    while True: \n",
    "        try:\n",
    "            # pick a random file from the file list\n",
    "            rand = random.randint(0, len(file_list) - 1)\n",
    "            file=str(file_list[rand])\n",
    "\n",
    "            # test that the file can be processed\n",
    "            pr.PrettyMIDI(file)\n",
    "            mu.from_mido(MidiFile(file), duplicate_note_mode='fifo')\n",
    "            # copy file to segment folder\n",
    "            shutil.copy(file,save_dir)\n",
    "        except:            \n",
    "            # Error happened, continue\n",
    "            print(\"Error happened. File: \"+file)\n",
    "            continue\n",
    "        else:\n",
    "            break\n",
    "            \n",
    "print('Done!')"
   ]
  },
  {
   "cell_type": "code",
   "execution_count": null,
   "id": "1ddb4cbd",
   "metadata": {},
   "outputs": [],
   "source": []
  }
 ],
 "metadata": {
  "kernelspec": {
   "display_name": "Python 3 (ipykernel)",
   "language": "python",
   "name": "python3"
  },
  "language_info": {
   "codemirror_mode": {
    "name": "ipython",
    "version": 3
   },
   "file_extension": ".py",
   "mimetype": "text/x-python",
   "name": "python",
   "nbconvert_exporter": "python",
   "pygments_lexer": "ipython3",
   "version": "3.9.13"
  }
 },
 "nbformat": 4,
 "nbformat_minor": 5
}
