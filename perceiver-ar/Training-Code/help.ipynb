{
 "cells": [
  {
   "cell_type": "markdown",
   "id": "3f44c837",
   "metadata": {},
   "source": [
    "# Solo Piano Maker Help"
   ]
  },
  {
   "cell_type": "code",
   "execution_count": null,
   "id": "12ee5eaa",
   "metadata": {},
   "outputs": [],
   "source": [
    "            print('Plotting training loss graph...')\n",
    "#             tr_loss_list = train_losses\n",
    "#             fig, ax = plt.subplots()\n",
    "#             ax.plot([i for i in range(len(tr_loss_list))] ,tr_loss_list, 'b')\n",
    "#             ax.set(xlabel='Steps', ylabel ='Training Loss', title=dataset_name+': Training Loss')\n",
    "#             ax.xaxis.set_minor_locator(AutoMinorLocator(5))\n",
    "#             ax.yaxis.set_minor_locator(AutoMinorLocator(5))\n",
    "#             ax.grid(which='minor', alpha=0.2)\n",
    "#             ax.grid(which='major', alpha=0.5)\n",
    "#             fig.savefig(train_out_dir+dataset_name+'_train-loss_'+str(i) + '_steps'+'.png')\n",
    "#             plt.show()\n",
    "#             plt.close()\n",
    "            \n",
    "#             print('Plotting training acc graph...')\n",
    "#             tr_loss_list = train_accs\n",
    "#             fig, ax = plt.subplots()\n",
    "#             ax.plot([i for i in range(len(tr_loss_list))] ,tr_loss_list, 'b')\n",
    "#             ax.set(xlabel='Steps', ylabel ='Training Accuracy', title=dataset_name+': Training Accuracy')\n",
    "#             ax.xaxis.set_minor_locator(AutoMinorLocator(5))\n",
    "#             ax.yaxis.set_minor_locator(AutoMinorLocator(5))\n",
    "#             ax.grid(which='minor', alpha=0.2)\n",
    "#             ax.grid(which='major', alpha=0.5)\n",
    "#             fig.savefig(train_out_dir+dataset_name+'_train-acc_'+str(i) + '_steps'+'.png')\n",
    "#             plt.show()\n",
    "#             plt.close()\n",
    "            \n",
    "#             print('Plotting validation loss graph...')\n",
    "#             tr_loss_list = val_losses\n",
    "#             fig, ax = plt.subplots()\n",
    "#             ax.plot([100*i for i in range(len(tr_loss_list))] ,tr_loss_list, 'b')\n",
    "#             ax.set(xlabel='Steps', ylabel ='Validation Loss', title=dataset_name+': Validation Loss')\n",
    "#             ax.xaxis.set_minor_locator(AutoMinorLocator(5))\n",
    "#             ax.yaxis.set_minor_locator(AutoMinorLocator(5))\n",
    "#             ax.grid(which='minor', alpha=0.2)\n",
    "#             ax.grid(which='major', alpha=0.5)\n",
    "#             fig.savefig(train_out_dir+dataset_name+'_val-loss_'+str(i) + '_steps'+'.png')\n",
    "#             plt.show()\n",
    "#             plt.close()\n",
    "            \n",
    "#             print('Plotting validation acc graph...')\n",
    "#             tr_loss_list = val_accs\n",
    "#             fig, ax = plt.subplots()\n",
    "#             plt.plot([100*i for i in range(len(tr_loss_list))] ,tr_loss_list, 'b')\n",
    "#             ax.set(xlabel='Steps', ylabel ='Validation Accuracy', title=dataset_name+': Validation Accuracy')\n",
    "#             ax.xaxis.set_minor_locator(AutoMinorLocator(5))\n",
    "#             ax.yaxis.set_minor_locator(AutoMinorLocator(5))\n",
    "#             ax.grid(which='minor', alpha=0.2)\n",
    "#             ax.grid(which='major', alpha=0.5)\n",
    "#             fig.savefig(train_out_dir+dataset_name+'_val-acc_'+str(i) + '_steps'+'.png')\n",
    "#             plt.show()\n",
    "#             plt.close()"
   ]
  }
 ],
 "metadata": {
  "kernelspec": {
   "display_name": "Python 3 (ipykernel)",
   "language": "python",
   "name": "python3"
  },
  "language_info": {
   "codemirror_mode": {
    "name": "ipython",
    "version": 3
   },
   "file_extension": ".py",
   "mimetype": "text/x-python",
   "name": "python",
   "nbconvert_exporter": "python",
   "pygments_lexer": "ipython3",
   "version": "3.9.13"
  }
 },
 "nbformat": 4,
 "nbformat_minor": 5
}
